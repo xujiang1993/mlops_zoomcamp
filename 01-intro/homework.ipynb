{
 "cells": [
  {
   "cell_type": "code",
   "execution_count": null,
   "id": "103959aa",
   "metadata": {},
   "outputs": [],
   "source": [
    "import pandas as pd"
   ]
  },
  {
   "cell_type": "code",
   "execution_count": null,
   "id": "fa61f772",
   "metadata": {},
   "outputs": [],
   "source": [
    "! pip install pyarrow"
   ]
  },
  {
   "cell_type": "code",
   "execution_count": null,
   "id": "d4347887",
   "metadata": {},
   "outputs": [],
   "source": [
    "df = pd.read_parquet('https://d37ci6vzurychx.cloudfront.net/trip-data/yellow_tripdata_2023-01.parquet')\n",
    "df_val = pd.read_parquet('https://d37ci6vzurychx.cloudfront.net/trip-data/yellow_tripdata_2023-02.parquet')"
   ]
  },
  {
   "cell_type": "code",
   "execution_count": null,
   "id": "6a86a701",
   "metadata": {},
   "outputs": [],
   "source": [
    "df.shape"
   ]
  },
  {
   "cell_type": "code",
   "execution_count": null,
   "id": "6becfee4",
   "metadata": {},
   "outputs": [],
   "source": [
    "df_val.shape"
   ]
  },
  {
   "cell_type": "code",
   "execution_count": null,
   "id": "db3768ef",
   "metadata": {},
   "outputs": [],
   "source": [
    "df['dur'] = (df['tpep_dropoff_datetime'] - df['tpep_pickup_datetime']).dt.total_seconds() / 60"
   ]
  },
  {
   "cell_type": "code",
   "execution_count": null,
   "id": "c97510cf",
   "metadata": {},
   "outputs": [],
   "source": [
    "df_val['dur'] = (df_val['tpep_dropoff_datetime'] - df_val['tpep_pickup_datetime']).dt.total_seconds() / 60"
   ]
  },
  {
   "cell_type": "code",
   "execution_count": null,
   "id": "957898fc",
   "metadata": {},
   "outputs": [],
   "source": [
    "((df['tpep_dropoff_datetime'] - df['tpep_pickup_datetime']).dt.total_seconds() / 60).std()"
   ]
  },
  {
   "cell_type": "code",
   "execution_count": null,
   "id": "183f7341",
   "metadata": {},
   "outputs": [],
   "source": [
    "df.describe()"
   ]
  },
  {
   "cell_type": "code",
   "execution_count": null,
   "id": "1281538a",
   "metadata": {},
   "outputs": [],
   "source": [
    "df['dur'][(df['dur'] <=1) | (df['dur']>=60)]"
   ]
  },
  {
   "cell_type": "code",
   "execution_count": null,
   "id": "e95a99f8",
   "metadata": {},
   "outputs": [],
   "source": [
    "1 - 57917/3066766"
   ]
  },
  {
   "cell_type": "code",
   "execution_count": null,
   "id": "f21a3c66",
   "metadata": {},
   "outputs": [],
   "source": [
    "categorial = ['PULocationID','DOLocationID']\n",
    "num = ['dur']"
   ]
  },
  {
   "cell_type": "code",
   "execution_count": null,
   "id": "a0441941",
   "metadata": {},
   "outputs": [],
   "source": [
    "df[categorial] = df[categorial].astype(str)"
   ]
  },
  {
   "cell_type": "code",
   "execution_count": null,
   "id": "f6f738fe",
   "metadata": {},
   "outputs": [],
   "source": [
    "df_val[categorial] = df_val[categorial].astype(str)"
   ]
  },
  {
   "cell_type": "code",
   "execution_count": null,
   "id": "ea9d27df",
   "metadata": {},
   "outputs": [],
   "source": [
    "df = df[(df['dur'] >=1) & (df['dur']<=60)]"
   ]
  },
  {
   "cell_type": "code",
   "execution_count": null,
   "id": "9b21dcf9",
   "metadata": {},
   "outputs": [],
   "source": [
    "df_val = df_val[(df_val['dur'] >=1) & (df_val['dur']<=60)]"
   ]
  },
  {
   "cell_type": "code",
   "execution_count": null,
   "id": "3a601f97",
   "metadata": {},
   "outputs": [],
   "source": [
    "df_val"
   ]
  },
  {
   "cell_type": "code",
   "execution_count": null,
   "id": "f4306753",
   "metadata": {},
   "outputs": [],
   "source": [
    "# Convert DataFrame to list of dictionaries\n",
    "list_of_dicts = df[categorial].to_dict(orient='records')\n"
   ]
  },
  {
   "cell_type": "code",
   "execution_count": null,
   "id": "f3d8d100",
   "metadata": {},
   "outputs": [],
   "source": [
    "# Convert DataFrame to list of dictionaries\n",
    "list_of_dicts_val = df_val[categorial].to_dict(orient='records')"
   ]
  },
  {
   "cell_type": "code",
   "execution_count": null,
   "id": "d9f037c7",
   "metadata": {},
   "outputs": [],
   "source": [
    "from sklearn.feature_extraction import DictVectorizer\n",
    "\n",
    "# Initialize DictVectorizer\n",
    "vec = DictVectorizer()"
   ]
  },
  {
   "cell_type": "code",
   "execution_count": null,
   "id": "b6917337",
   "metadata": {},
   "outputs": [],
   "source": [
    "X_train = vec.fit_transform(list_of_dicts)"
   ]
  },
  {
   "cell_type": "code",
   "execution_count": null,
   "id": "cef26a38",
   "metadata": {},
   "outputs": [],
   "source": [
    "X_val = vec.transform(list_of_dicts_val)"
   ]
  },
  {
   "cell_type": "code",
   "execution_count": null,
   "id": "b4907363",
   "metadata": {},
   "outputs": [],
   "source": [
    "X_train"
   ]
  },
  {
   "cell_type": "code",
   "execution_count": null,
   "id": "4cf39be1",
   "metadata": {},
   "outputs": [],
   "source": [
    "X_val"
   ]
  },
  {
   "cell_type": "code",
   "execution_count": null,
   "id": "7f9c94fa",
   "metadata": {},
   "outputs": [],
   "source": [
    "Y_val = df_val['dur'].values"
   ]
  },
  {
   "cell_type": "code",
   "execution_count": null,
   "id": "e906d9d8",
   "metadata": {},
   "outputs": [],
   "source": [
    "X_train"
   ]
  },
  {
   "cell_type": "code",
   "execution_count": null,
   "id": "1c9a490d",
   "metadata": {},
   "outputs": [],
   "source": [
    "Y_train = df['dur'].values"
   ]
  },
  {
   "cell_type": "code",
   "execution_count": null,
   "id": "db08f5ef",
   "metadata": {},
   "outputs": [],
   "source": [
    "Y_train_val = df_val['dur'].values"
   ]
  },
  {
   "cell_type": "code",
   "execution_count": null,
   "id": "f682ce83",
   "metadata": {},
   "outputs": [],
   "source": [
    "data = df[['PULocationID','DOLocationID','dur']]"
   ]
  },
  {
   "cell_type": "code",
   "execution_count": null,
   "id": "0fb60c2e",
   "metadata": {},
   "outputs": [],
   "source": [
    "data"
   ]
  },
  {
   "cell_type": "code",
   "execution_count": null,
   "id": "4c0fb412",
   "metadata": {},
   "outputs": [],
   "source": [
    "from sklearn.linear_model import LinearRegression\n",
    "lr = LinearRegression()\n",
    "\n",
    "lr.fit(X_train,Y_train)\n",
    "\n",
    "y_pred = lr.predict(X_train)"
   ]
  },
  {
   "cell_type": "code",
   "execution_count": null,
   "id": "890f7c18",
   "metadata": {},
   "outputs": [],
   "source": [
    "X_val"
   ]
  },
  {
   "cell_type": "code",
   "execution_count": null,
   "id": "40fae48e",
   "metadata": {},
   "outputs": [],
   "source": [
    "y_pred_val = lr.predict(X_val)"
   ]
  },
  {
   "cell_type": "code",
   "execution_count": null,
   "id": "d44d118b",
   "metadata": {},
   "outputs": [],
   "source": [
    "len(Y_train)"
   ]
  },
  {
   "cell_type": "code",
   "execution_count": null,
   "id": "1de65ba9",
   "metadata": {},
   "outputs": [],
   "source": [
    "from sklearn.metrics import mean_squared_error\n",
    "mean_squared_error(Y_train,y_pred,squared=False)"
   ]
  },
  {
   "cell_type": "code",
   "execution_count": null,
   "id": "9fc80dd0",
   "metadata": {},
   "outputs": [],
   "source": [
    "mean_squared_error(Y_train_val,y_pred_val,squared=False)"
   ]
  },
  {
   "cell_type": "code",
   "execution_count": null,
   "id": "b5f5b947",
   "metadata": {},
   "outputs": [],
   "source": [
    "df['PU_DO'] = df['PULocationID'] + '_' + df['DOLocationID']\n",
    "df_val['PU_DO'] = df_val['PULocationID'] + '_' + df_val['DOLocationID']"
   ]
  },
  {
   "cell_type": "code",
   "execution_count": null,
   "id": "a26a1671",
   "metadata": {},
   "outputs": [],
   "source": [
    "# Convert DataFrame to list of dictionaries\n",
    "list_of_dicts = df['PU_DO'].to_dict(orient='records')\n",
    "list_of_dicts_val = df_val['PU_DO'].to_dict(orient='records')"
   ]
  }
 ],
 "metadata": {
  "kernelspec": {
   "display_name": "Python 3 (ipykernel)",
   "language": "python",
   "name": "python3"
  },
  "language_info": {
   "codemirror_mode": {
    "name": "ipython",
    "version": 3
   },
   "file_extension": ".py",
   "mimetype": "text/x-python",
   "name": "python",
   "nbconvert_exporter": "python",
   "pygments_lexer": "ipython3",
   "version": "3.10.13"
  }
 },
 "nbformat": 4,
 "nbformat_minor": 5
}
